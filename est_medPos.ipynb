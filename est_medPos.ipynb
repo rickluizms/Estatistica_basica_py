{
  "nbformat": 4,
  "nbformat_minor": 0,
  "metadata": {
    "colab": {
      "provenance": []
    },
    "kernelspec": {
      "name": "python3",
      "display_name": "Python 3"
    },
    "language_info": {
      "name": "python"
    }
  },
  "cells": [
    {
      "cell_type": "code",
      "execution_count": null,
      "metadata": {
        "colab": {
          "base_uri": "https://localhost:8080/"
        },
        "id": "7gD3_E1kG-Kx",
        "outputId": "05eb27ef-f605-45b9-d323-b0a6cf1552a9"
      },
      "outputs": [
        {
          "output_type": "execute_result",
          "data": {
            "text/plain": [
              "143.33333333333334"
            ]
          },
          "metadata": {},
          "execution_count": 2
        }
      ],
      "source": [
        "\"\"\"\n",
        "Média aritimérica \n",
        "soma dos dados / n\n",
        "\"\"\"\n",
        "\n",
        "x = [10, 60, 360]\n",
        "media = sum(x) / len(x)\n",
        "media"
      ]
    },
    {
      "cell_type": "code",
      "source": [
        "import numpy as np\n",
        "np.mean(x)"
      ],
      "metadata": {
        "colab": {
          "base_uri": "https://localhost:8080/"
        },
        "id": "H0WKJEBvHzyl",
        "outputId": "04bc9782-f1a9-4cb3-b124-54eef616ad1e"
      },
      "execution_count": null,
      "outputs": [
        {
          "output_type": "execute_result",
          "data": {
            "text/plain": [
              "143.33333333333334"
            ]
          },
          "metadata": {},
          "execution_count": 3
        }
      ]
    },
    {
      "cell_type": "code",
      "source": [
        "\"\"\"\n",
        "Média aritimética ponderada\n",
        "soma(dados * pesos) / soma(pesos)\n",
        "\"\"\"\n",
        "pesos = [1, 2, 3, 4]\n",
        "notas = [8, 7, 9, 9]\n",
        "\n",
        "notasXpesos = [notas[i]* pesos[i] for i in range(0, len(notas))]\n",
        "media_pond = sum(notasXpesos) / sum(pesos)\n",
        "media_pond"
      ],
      "metadata": {
        "colab": {
          "base_uri": "https://localhost:8080/"
        },
        "id": "3vXB4MUxIKgf",
        "outputId": "532dc3cd-4c73-407a-b6b2-5cba516e9e81"
      },
      "execution_count": null,
      "outputs": [
        {
          "output_type": "execute_result",
          "data": {
            "text/plain": [
              "8.5"
            ]
          },
          "metadata": {},
          "execution_count": 4
        }
      ]
    },
    {
      "cell_type": "markdown",
      "source": [
        "Média Harmonica e Média Harmonica Ponderada"
      ],
      "metadata": {
        "id": "BQP8VD3ULUZA"
      }
    },
    {
      "cell_type": "code",
      "source": [
        "#dados\n",
        "x = [10, 60, 360]\n",
        "y = [2, 2, 2, 2]"
      ],
      "metadata": {
        "id": "nGCyF4SeLeYs"
      },
      "execution_count": null,
      "outputs": []
    },
    {
      "cell_type": "code",
      "source": [
        "\"\"\"\n",
        "Média harmonica (xh)\n",
        "xh = (1/(soma(1/xj)))\n",
        "xh = n/(sum(1/xj))\n",
        "\"\"\"\n",
        "\n",
        "#Calculo manual\n",
        "nX = len(x)\n",
        "somaX = (1 / x[0]) + (1 / x[1]) + (1 / x[2])\n",
        "print(f'Média Harmonica = {nX} / {somaX:.4f}')"
      ],
      "metadata": {
        "colab": {
          "base_uri": "https://localhost:8080/"
        },
        "id": "7-7gMDoWMsjC",
        "outputId": "78800c44-f276-4059-bb30-69439d8d6b63"
      },
      "execution_count": null,
      "outputs": [
        {
          "output_type": "stream",
          "name": "stdout",
          "text": [
            "Média Harmonica = 3 / 0.1194\n"
          ]
        }
      ]
    },
    {
      "cell_type": "code",
      "source": [
        "xh = nX / somaX\n",
        "print(f'Média Harmonica = {xh:.4f}')"
      ],
      "metadata": {
        "colab": {
          "base_uri": "https://localhost:8080/"
        },
        "id": "8-OYgmseN77T",
        "outputId": "60450db2-cde9-40f4-91d8-6000e95d7c03"
      },
      "execution_count": null,
      "outputs": [
        {
          "output_type": "stream",
          "name": "stdout",
          "text": [
            "Média Harmonica = 25.1163\n"
          ]
        }
      ]
    },
    {
      "cell_type": "code",
      "source": [
        "#Calculo com loop\n",
        "somaX = [(1 / x[k]) for k in range(0, len(x))]\n",
        "somaX = sum(somaX)\n",
        "\n",
        "xh = nX / somaX\n",
        "xh"
      ],
      "metadata": {
        "colab": {
          "base_uri": "https://localhost:8080/"
        },
        "id": "DlmSeTajOZQn",
        "outputId": "4e592064-c859-4286-8a45-ad6e19d86746"
      },
      "execution_count": null,
      "outputs": [
        {
          "output_type": "execute_result",
          "data": {
            "text/plain": [
              "25.11627906976744"
            ]
          },
          "metadata": {},
          "execution_count": 13
        }
      ]
    },
    {
      "cell_type": "code",
      "source": [
        "nY = len(y)\n",
        "somaY = [(1 / y[k]) for k in range(0, len(y))]\n",
        "somaY = sum(somaY)\n",
        "yh = nY / somaY\n",
        "\n",
        "#Resultados\n",
        "print(f'Média Harmonica = {nY} / {somaY:.4f}',\n",
        "      f'Média Harmonica {yh:.4f}',\n",
        "      sep='\\n')"
      ],
      "metadata": {
        "colab": {
          "base_uri": "https://localhost:8080/"
        },
        "id": "Z_TBnokePYkl",
        "outputId": "3557af67-c005-4db0-9844-f1863416eb4c"
      },
      "execution_count": null,
      "outputs": [
        {
          "output_type": "stream",
          "name": "stdout",
          "text": [
            "Média Harmonica = 4 / 2.0000\n",
            "Média Harmonica 2.0000\n"
          ]
        }
      ]
    },
    {
      "cell_type": "markdown",
      "source": [
        "Uma Pessoa comprou 4 camisas a 30,00 por camisa e 2 camisas por 50,00 cada.\n",
        "\n",
        "\n",
        "*   120,00 em camisas de 30,00\n",
        "*   100,00 em camisas de 50,00\n",
        "\n"
      ],
      "metadata": {
        "id": "3Cjl7BpFQs3c"
      }
    },
    {
      "cell_type": "code",
      "source": [
        "#Dados\n",
        "gastos = [120, 100] #Ponderação (Preço x Quantidade)\n",
        "precos = [30, 50] #Dados\n",
        "quantidades = [4, 2]"
      ],
      "metadata": {
        "id": "3YiZ--DzRaFG"
      },
      "execution_count": null,
      "outputs": []
    },
    {
      "cell_type": "code",
      "source": [
        "\"\"\"\n",
        "Média Harmonica ponderada\n",
        "xhP = 1 / (ponderacao / somaPonderacao)\n",
        "ponderacao = (peso * (1 / dado) + ... + peson * (1 / dadon))\n",
        "\"\"\"\n",
        "somaGastos = sum(gastos)\n",
        "ponderacao = ((gastos[0] * (1 / precos[0])) + (gastos[1] * (1 / precos[1])))\n",
        "print(somaGastos, ponderacao)"
      ],
      "metadata": {
        "colab": {
          "base_uri": "https://localhost:8080/"
        },
        "id": "QRphR3RPR0pr",
        "outputId": "de6293d8-4534-435c-f694-0ac9992feed3"
      },
      "execution_count": null,
      "outputs": [
        {
          "output_type": "stream",
          "name": "stdout",
          "text": [
            "220 6.0\n"
          ]
        }
      ]
    }
  ]
}